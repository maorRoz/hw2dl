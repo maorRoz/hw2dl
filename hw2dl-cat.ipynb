{
 "cells": [
  {
   "cell_type": "markdown",
   "metadata": {},
   "source": [
    "# Category Embedding"
   ]
  },
  {
   "cell_type": "code",
   "execution_count": 2,
   "metadata": {},
   "outputs": [],
   "source": [
    "from keras.models import Model\n",
    "from keras.layers import *\n",
    "from keras.callbacks import *\n",
    "from keras.regularizers import l2\n",
    "from keras.optimizers import *\n",
    "from keras.utils import to_categorical\n",
    "import pandas as pd\n",
    "import numpy as np\n",
    "import datetime\n",
    "import seaborn as sns \n",
    "import matplotlib.pyplot as plt\n",
    "import matplotlib.dates as mdates\n",
    "%matplotlib inline\n",
    " \n",
    "import xgboost as xgb"
   ]
  },
  {
   "cell_type": "markdown",
   "metadata": {},
   "source": [
    "## Data Analysis:"
   ]
  },
  {
   "cell_type": "code",
   "execution_count": 3,
   "metadata": {},
   "outputs": [
    {
     "name": "stdout",
     "output_type": "stream",
     "text": [
      "shape of train :  (201917, 6)\n"
     ]
    }
   ],
   "source": [
    "train = pd.read_csv(\"../input/train.csv\")\n",
    "print(\"shape of train : \",train.shape)"
   ]
  },
  {
   "cell_type": "code",
   "execution_count": 4,
   "metadata": {},
   "outputs": [
    {
     "data": {
      "text/html": [
       "<div>\n",
       "<style scoped>\n",
       "    .dataframe tbody tr th:only-of-type {\n",
       "        vertical-align: middle;\n",
       "    }\n",
       "\n",
       "    .dataframe tbody tr th {\n",
       "        vertical-align: top;\n",
       "    }\n",
       "\n",
       "    .dataframe thead th {\n",
       "        text-align: right;\n",
       "    }\n",
       "</style>\n",
       "<table border=\"1\" class=\"dataframe\">\n",
       "  <thead>\n",
       "    <tr style=\"text-align: right;\">\n",
       "      <th></th>\n",
       "      <th>first_active_month</th>\n",
       "      <th>card_id</th>\n",
       "      <th>feature_1</th>\n",
       "      <th>feature_2</th>\n",
       "      <th>feature_3</th>\n",
       "      <th>target</th>\n",
       "    </tr>\n",
       "  </thead>\n",
       "  <tbody>\n",
       "    <tr>\n",
       "      <th>0</th>\n",
       "      <td>2017-06</td>\n",
       "      <td>C_ID_92a2005557</td>\n",
       "      <td>5</td>\n",
       "      <td>2</td>\n",
       "      <td>1</td>\n",
       "      <td>-0.820283</td>\n",
       "    </tr>\n",
       "    <tr>\n",
       "      <th>1</th>\n",
       "      <td>2017-01</td>\n",
       "      <td>C_ID_3d0044924f</td>\n",
       "      <td>4</td>\n",
       "      <td>1</td>\n",
       "      <td>0</td>\n",
       "      <td>0.392913</td>\n",
       "    </tr>\n",
       "    <tr>\n",
       "      <th>2</th>\n",
       "      <td>2016-08</td>\n",
       "      <td>C_ID_d639edf6cd</td>\n",
       "      <td>2</td>\n",
       "      <td>2</td>\n",
       "      <td>0</td>\n",
       "      <td>0.688056</td>\n",
       "    </tr>\n",
       "    <tr>\n",
       "      <th>3</th>\n",
       "      <td>2017-09</td>\n",
       "      <td>C_ID_186d6a6901</td>\n",
       "      <td>4</td>\n",
       "      <td>3</td>\n",
       "      <td>0</td>\n",
       "      <td>0.142495</td>\n",
       "    </tr>\n",
       "    <tr>\n",
       "      <th>4</th>\n",
       "      <td>2017-11</td>\n",
       "      <td>C_ID_cdbd2c0db2</td>\n",
       "      <td>1</td>\n",
       "      <td>3</td>\n",
       "      <td>0</td>\n",
       "      <td>-0.159749</td>\n",
       "    </tr>\n",
       "  </tbody>\n",
       "</table>\n",
       "</div>"
      ],
      "text/plain": [
       "  first_active_month          card_id  feature_1  feature_2  feature_3  \\\n",
       "0            2017-06  C_ID_92a2005557          5          2          1   \n",
       "1            2017-01  C_ID_3d0044924f          4          1          0   \n",
       "2            2016-08  C_ID_d639edf6cd          2          2          0   \n",
       "3            2017-09  C_ID_186d6a6901          4          3          0   \n",
       "4            2017-11  C_ID_cdbd2c0db2          1          3          0   \n",
       "\n",
       "     target  \n",
       "0 -0.820283  \n",
       "1  0.392913  \n",
       "2  0.688056  \n",
       "3  0.142495  \n",
       "4 -0.159749  "
      ]
     },
     "execution_count": 4,
     "metadata": {},
     "output_type": "execute_result"
    }
   ],
   "source": [
    "train.head()"
   ]
  },
  {
   "cell_type": "code",
   "execution_count": 5,
   "metadata": {},
   "outputs": [
    {
     "name": "stdout",
     "output_type": "stream",
     "text": [
      "shape of test :  (123623, 5)\n"
     ]
    }
   ],
   "source": [
    "test = pd.read_csv(\"../input/test.csv\")\n",
    "print(\"shape of test : \",test.shape)\n",
    "\n"
   ]
  },
  {
   "cell_type": "code",
   "execution_count": 6,
   "metadata": {},
   "outputs": [
    {
     "data": {
      "text/html": [
       "<div>\n",
       "<style scoped>\n",
       "    .dataframe tbody tr th:only-of-type {\n",
       "        vertical-align: middle;\n",
       "    }\n",
       "\n",
       "    .dataframe tbody tr th {\n",
       "        vertical-align: top;\n",
       "    }\n",
       "\n",
       "    .dataframe thead th {\n",
       "        text-align: right;\n",
       "    }\n",
       "</style>\n",
       "<table border=\"1\" class=\"dataframe\">\n",
       "  <thead>\n",
       "    <tr style=\"text-align: right;\">\n",
       "      <th></th>\n",
       "      <th>first_active_month</th>\n",
       "      <th>card_id</th>\n",
       "      <th>feature_1</th>\n",
       "      <th>feature_2</th>\n",
       "      <th>feature_3</th>\n",
       "    </tr>\n",
       "  </thead>\n",
       "  <tbody>\n",
       "    <tr>\n",
       "      <th>0</th>\n",
       "      <td>2017-04</td>\n",
       "      <td>C_ID_0ab67a22ab</td>\n",
       "      <td>3</td>\n",
       "      <td>3</td>\n",
       "      <td>1</td>\n",
       "    </tr>\n",
       "    <tr>\n",
       "      <th>1</th>\n",
       "      <td>2017-01</td>\n",
       "      <td>C_ID_130fd0cbdd</td>\n",
       "      <td>2</td>\n",
       "      <td>3</td>\n",
       "      <td>0</td>\n",
       "    </tr>\n",
       "    <tr>\n",
       "      <th>2</th>\n",
       "      <td>2017-08</td>\n",
       "      <td>C_ID_b709037bc5</td>\n",
       "      <td>5</td>\n",
       "      <td>1</td>\n",
       "      <td>1</td>\n",
       "    </tr>\n",
       "    <tr>\n",
       "      <th>3</th>\n",
       "      <td>2017-12</td>\n",
       "      <td>C_ID_d27d835a9f</td>\n",
       "      <td>2</td>\n",
       "      <td>1</td>\n",
       "      <td>0</td>\n",
       "    </tr>\n",
       "    <tr>\n",
       "      <th>4</th>\n",
       "      <td>2015-12</td>\n",
       "      <td>C_ID_2b5e3df5c2</td>\n",
       "      <td>5</td>\n",
       "      <td>1</td>\n",
       "      <td>1</td>\n",
       "    </tr>\n",
       "  </tbody>\n",
       "</table>\n",
       "</div>"
      ],
      "text/plain": [
       "  first_active_month          card_id  feature_1  feature_2  feature_3\n",
       "0            2017-04  C_ID_0ab67a22ab          3          3          1\n",
       "1            2017-01  C_ID_130fd0cbdd          2          3          0\n",
       "2            2017-08  C_ID_b709037bc5          5          1          1\n",
       "3            2017-12  C_ID_d27d835a9f          2          1          0\n",
       "4            2015-12  C_ID_2b5e3df5c2          5          1          1"
      ]
     },
     "execution_count": 6,
     "metadata": {},
     "output_type": "execute_result"
    }
   ],
   "source": [
    "test.head()"
   ]
  },
  {
   "cell_type": "code",
   "execution_count": 7,
   "metadata": {},
   "outputs": [
    {
     "name": "stdout",
     "output_type": "stream",
     "text": [
      "shape of merchants :  (334696, 22)\n"
     ]
    },
    {
     "data": {
      "text/html": [
       "<div>\n",
       "<style scoped>\n",
       "    .dataframe tbody tr th:only-of-type {\n",
       "        vertical-align: middle;\n",
       "    }\n",
       "\n",
       "    .dataframe tbody tr th {\n",
       "        vertical-align: top;\n",
       "    }\n",
       "\n",
       "    .dataframe thead th {\n",
       "        text-align: right;\n",
       "    }\n",
       "</style>\n",
       "<table border=\"1\" class=\"dataframe\">\n",
       "  <thead>\n",
       "    <tr style=\"text-align: right;\">\n",
       "      <th></th>\n",
       "      <th>merchant_id</th>\n",
       "      <th>merchant_group_id</th>\n",
       "      <th>merchant_category_id</th>\n",
       "      <th>subsector_id</th>\n",
       "      <th>numerical_1</th>\n",
       "      <th>numerical_2</th>\n",
       "      <th>category_1</th>\n",
       "      <th>most_recent_sales_range</th>\n",
       "      <th>most_recent_purchases_range</th>\n",
       "      <th>avg_sales_lag3</th>\n",
       "      <th>...</th>\n",
       "      <th>avg_sales_lag6</th>\n",
       "      <th>avg_purchases_lag6</th>\n",
       "      <th>active_months_lag6</th>\n",
       "      <th>avg_sales_lag12</th>\n",
       "      <th>avg_purchases_lag12</th>\n",
       "      <th>active_months_lag12</th>\n",
       "      <th>category_4</th>\n",
       "      <th>city_id</th>\n",
       "      <th>state_id</th>\n",
       "      <th>category_2</th>\n",
       "    </tr>\n",
       "  </thead>\n",
       "  <tbody>\n",
       "    <tr>\n",
       "      <th>0</th>\n",
       "      <td>M_ID_838061e48c</td>\n",
       "      <td>8353</td>\n",
       "      <td>792</td>\n",
       "      <td>9</td>\n",
       "      <td>-0.057471</td>\n",
       "      <td>-0.057471</td>\n",
       "      <td>N</td>\n",
       "      <td>E</td>\n",
       "      <td>E</td>\n",
       "      <td>-0.40</td>\n",
       "      <td>...</td>\n",
       "      <td>-2.25</td>\n",
       "      <td>18.666667</td>\n",
       "      <td>6</td>\n",
       "      <td>-2.32</td>\n",
       "      <td>13.916667</td>\n",
       "      <td>12</td>\n",
       "      <td>N</td>\n",
       "      <td>242</td>\n",
       "      <td>9</td>\n",
       "      <td>1.0</td>\n",
       "    </tr>\n",
       "    <tr>\n",
       "      <th>1</th>\n",
       "      <td>M_ID_9339d880ad</td>\n",
       "      <td>3184</td>\n",
       "      <td>840</td>\n",
       "      <td>20</td>\n",
       "      <td>-0.057471</td>\n",
       "      <td>-0.057471</td>\n",
       "      <td>N</td>\n",
       "      <td>E</td>\n",
       "      <td>E</td>\n",
       "      <td>-0.72</td>\n",
       "      <td>...</td>\n",
       "      <td>-0.74</td>\n",
       "      <td>1.291667</td>\n",
       "      <td>6</td>\n",
       "      <td>-0.57</td>\n",
       "      <td>1.687500</td>\n",
       "      <td>12</td>\n",
       "      <td>N</td>\n",
       "      <td>22</td>\n",
       "      <td>16</td>\n",
       "      <td>1.0</td>\n",
       "    </tr>\n",
       "    <tr>\n",
       "      <th>2</th>\n",
       "      <td>M_ID_e726bbae1e</td>\n",
       "      <td>447</td>\n",
       "      <td>690</td>\n",
       "      <td>1</td>\n",
       "      <td>-0.057471</td>\n",
       "      <td>-0.057471</td>\n",
       "      <td>N</td>\n",
       "      <td>E</td>\n",
       "      <td>E</td>\n",
       "      <td>-82.13</td>\n",
       "      <td>...</td>\n",
       "      <td>-82.13</td>\n",
       "      <td>260.000000</td>\n",
       "      <td>2</td>\n",
       "      <td>-82.13</td>\n",
       "      <td>260.000000</td>\n",
       "      <td>2</td>\n",
       "      <td>N</td>\n",
       "      <td>-1</td>\n",
       "      <td>5</td>\n",
       "      <td>5.0</td>\n",
       "    </tr>\n",
       "    <tr>\n",
       "      <th>3</th>\n",
       "      <td>M_ID_a70e9c5f81</td>\n",
       "      <td>5026</td>\n",
       "      <td>792</td>\n",
       "      <td>9</td>\n",
       "      <td>-0.057471</td>\n",
       "      <td>-0.057471</td>\n",
       "      <td>Y</td>\n",
       "      <td>E</td>\n",
       "      <td>E</td>\n",
       "      <td>NaN</td>\n",
       "      <td>...</td>\n",
       "      <td>NaN</td>\n",
       "      <td>4.666667</td>\n",
       "      <td>6</td>\n",
       "      <td>NaN</td>\n",
       "      <td>3.833333</td>\n",
       "      <td>12</td>\n",
       "      <td>Y</td>\n",
       "      <td>-1</td>\n",
       "      <td>-1</td>\n",
       "      <td>NaN</td>\n",
       "    </tr>\n",
       "    <tr>\n",
       "      <th>4</th>\n",
       "      <td>M_ID_64456c37ce</td>\n",
       "      <td>2228</td>\n",
       "      <td>222</td>\n",
       "      <td>21</td>\n",
       "      <td>-0.057471</td>\n",
       "      <td>-0.057471</td>\n",
       "      <td>Y</td>\n",
       "      <td>E</td>\n",
       "      <td>E</td>\n",
       "      <td>NaN</td>\n",
       "      <td>...</td>\n",
       "      <td>NaN</td>\n",
       "      <td>0.361111</td>\n",
       "      <td>6</td>\n",
       "      <td>NaN</td>\n",
       "      <td>0.347222</td>\n",
       "      <td>12</td>\n",
       "      <td>Y</td>\n",
       "      <td>-1</td>\n",
       "      <td>-1</td>\n",
       "      <td>NaN</td>\n",
       "    </tr>\n",
       "  </tbody>\n",
       "</table>\n",
       "<p>5 rows × 22 columns</p>\n",
       "</div>"
      ],
      "text/plain": [
       "       merchant_id  merchant_group_id  merchant_category_id  subsector_id  \\\n",
       "0  M_ID_838061e48c               8353                   792             9   \n",
       "1  M_ID_9339d880ad               3184                   840            20   \n",
       "2  M_ID_e726bbae1e                447                   690             1   \n",
       "3  M_ID_a70e9c5f81               5026                   792             9   \n",
       "4  M_ID_64456c37ce               2228                   222            21   \n",
       "\n",
       "   numerical_1  numerical_2 category_1 most_recent_sales_range  \\\n",
       "0    -0.057471    -0.057471          N                       E   \n",
       "1    -0.057471    -0.057471          N                       E   \n",
       "2    -0.057471    -0.057471          N                       E   \n",
       "3    -0.057471    -0.057471          Y                       E   \n",
       "4    -0.057471    -0.057471          Y                       E   \n",
       "\n",
       "  most_recent_purchases_range  avg_sales_lag3     ...      avg_sales_lag6  \\\n",
       "0                           E           -0.40     ...               -2.25   \n",
       "1                           E           -0.72     ...               -0.74   \n",
       "2                           E          -82.13     ...              -82.13   \n",
       "3                           E             NaN     ...                 NaN   \n",
       "4                           E             NaN     ...                 NaN   \n",
       "\n",
       "   avg_purchases_lag6  active_months_lag6  avg_sales_lag12  \\\n",
       "0           18.666667                   6            -2.32   \n",
       "1            1.291667                   6            -0.57   \n",
       "2          260.000000                   2           -82.13   \n",
       "3            4.666667                   6              NaN   \n",
       "4            0.361111                   6              NaN   \n",
       "\n",
       "   avg_purchases_lag12  active_months_lag12  category_4  city_id state_id  \\\n",
       "0            13.916667                   12           N      242        9   \n",
       "1             1.687500                   12           N       22       16   \n",
       "2           260.000000                    2           N       -1        5   \n",
       "3             3.833333                   12           Y       -1       -1   \n",
       "4             0.347222                   12           Y       -1       -1   \n",
       "\n",
       "   category_2  \n",
       "0         1.0  \n",
       "1         1.0  \n",
       "2         5.0  \n",
       "3         NaN  \n",
       "4         NaN  \n",
       "\n",
       "[5 rows x 22 columns]"
      ]
     },
     "execution_count": 7,
     "metadata": {},
     "output_type": "execute_result"
    }
   ],
   "source": [
    "merchants = pd.read_csv(\"../input/merchants.csv\")\n",
    "print(\"shape of merchants : \",merchants.shape)\n",
    "merchants.head()\n"
   ]
  },
  {
   "cell_type": "code",
   "execution_count": 8,
   "metadata": {
    "scrolled": true
   },
   "outputs": [
    {
     "name": "stdout",
     "output_type": "stream",
     "text": [
      "shape of merchants :  (29112361, 6)\n"
     ]
    },
    {
     "data": {
      "text/html": [
       "<div>\n",
       "<style scoped>\n",
       "    .dataframe tbody tr th:only-of-type {\n",
       "        vertical-align: middle;\n",
       "    }\n",
       "\n",
       "    .dataframe tbody tr th {\n",
       "        vertical-align: top;\n",
       "    }\n",
       "\n",
       "    .dataframe thead th {\n",
       "        text-align: right;\n",
       "    }\n",
       "</style>\n",
       "<table border=\"1\" class=\"dataframe\">\n",
       "  <thead>\n",
       "    <tr style=\"text-align: right;\">\n",
       "      <th></th>\n",
       "      <th>card_id</th>\n",
       "      <th>merchant_category_id</th>\n",
       "      <th>merchant_id</th>\n",
       "      <th>month_lag</th>\n",
       "      <th>purchase_amount</th>\n",
       "      <th>purchase_date</th>\n",
       "    </tr>\n",
       "  </thead>\n",
       "  <tbody>\n",
       "    <tr>\n",
       "      <th>0</th>\n",
       "      <td>C_ID_4e6213e9bc</td>\n",
       "      <td>80</td>\n",
       "      <td>M_ID_e020e9b302</td>\n",
       "      <td>-8</td>\n",
       "      <td>-0.703331</td>\n",
       "      <td>2017-06-25 15:33:07</td>\n",
       "    </tr>\n",
       "    <tr>\n",
       "      <th>1</th>\n",
       "      <td>C_ID_4e6213e9bc</td>\n",
       "      <td>367</td>\n",
       "      <td>M_ID_86ec983688</td>\n",
       "      <td>-7</td>\n",
       "      <td>-0.733128</td>\n",
       "      <td>2017-07-15 12:10:45</td>\n",
       "    </tr>\n",
       "    <tr>\n",
       "      <th>2</th>\n",
       "      <td>C_ID_4e6213e9bc</td>\n",
       "      <td>80</td>\n",
       "      <td>M_ID_979ed661fc</td>\n",
       "      <td>-6</td>\n",
       "      <td>-0.720386</td>\n",
       "      <td>2017-08-09 22:04:29</td>\n",
       "    </tr>\n",
       "    <tr>\n",
       "      <th>3</th>\n",
       "      <td>C_ID_4e6213e9bc</td>\n",
       "      <td>560</td>\n",
       "      <td>M_ID_e6d5ae8ea6</td>\n",
       "      <td>-5</td>\n",
       "      <td>-0.735352</td>\n",
       "      <td>2017-09-02 10:06:26</td>\n",
       "    </tr>\n",
       "    <tr>\n",
       "      <th>4</th>\n",
       "      <td>C_ID_4e6213e9bc</td>\n",
       "      <td>80</td>\n",
       "      <td>M_ID_e020e9b302</td>\n",
       "      <td>-11</td>\n",
       "      <td>-0.722865</td>\n",
       "      <td>2017-03-10 01:14:19</td>\n",
       "    </tr>\n",
       "  </tbody>\n",
       "</table>\n",
       "</div>"
      ],
      "text/plain": [
       "           card_id  merchant_category_id      merchant_id  month_lag  \\\n",
       "0  C_ID_4e6213e9bc                    80  M_ID_e020e9b302         -8   \n",
       "1  C_ID_4e6213e9bc                   367  M_ID_86ec983688         -7   \n",
       "2  C_ID_4e6213e9bc                    80  M_ID_979ed661fc         -6   \n",
       "3  C_ID_4e6213e9bc                   560  M_ID_e6d5ae8ea6         -5   \n",
       "4  C_ID_4e6213e9bc                    80  M_ID_e020e9b302        -11   \n",
       "\n",
       "   purchase_amount        purchase_date  \n",
       "0        -0.703331  2017-06-25 15:33:07  \n",
       "1        -0.733128  2017-07-15 12:10:45  \n",
       "2        -0.720386  2017-08-09 22:04:29  \n",
       "3        -0.735352  2017-09-02 10:06:26  \n",
       "4        -0.722865  2017-03-10 01:14:19  "
      ]
     },
     "execution_count": 8,
     "metadata": {},
     "output_type": "execute_result"
    }
   ],
   "source": [
    "historical_transactions = pd.read_csv(\"../input/historical_transactions.csv\")\n",
    "historical_transactions.drop(['authorized_flag','category_1','installments','category_3','category_2','state_id','subsector_id','city_id'],axis = 1, inplace = True)\n",
    "print(\"shape of merchants : \",historical_transactions.shape)\n",
    "historical_transactions.head()"
   ]
  },
  {
   "cell_type": "code",
   "execution_count": 9,
   "metadata": {},
   "outputs": [
    {
     "name": "stdout",
     "output_type": "stream",
     "text": [
      "shape of merchants :  (1963031, 14)\n"
     ]
    },
    {
     "data": {
      "text/html": [
       "<div>\n",
       "<style scoped>\n",
       "    .dataframe tbody tr th:only-of-type {\n",
       "        vertical-align: middle;\n",
       "    }\n",
       "\n",
       "    .dataframe tbody tr th {\n",
       "        vertical-align: top;\n",
       "    }\n",
       "\n",
       "    .dataframe thead th {\n",
       "        text-align: right;\n",
       "    }\n",
       "</style>\n",
       "<table border=\"1\" class=\"dataframe\">\n",
       "  <thead>\n",
       "    <tr style=\"text-align: right;\">\n",
       "      <th></th>\n",
       "      <th>authorized_flag</th>\n",
       "      <th>card_id</th>\n",
       "      <th>city_id</th>\n",
       "      <th>category_1</th>\n",
       "      <th>installments</th>\n",
       "      <th>category_3</th>\n",
       "      <th>merchant_category_id</th>\n",
       "      <th>merchant_id</th>\n",
       "      <th>month_lag</th>\n",
       "      <th>purchase_amount</th>\n",
       "      <th>purchase_date</th>\n",
       "      <th>category_2</th>\n",
       "      <th>state_id</th>\n",
       "      <th>subsector_id</th>\n",
       "    </tr>\n",
       "  </thead>\n",
       "  <tbody>\n",
       "    <tr>\n",
       "      <th>0</th>\n",
       "      <td>Y</td>\n",
       "      <td>C_ID_415bb3a509</td>\n",
       "      <td>107</td>\n",
       "      <td>N</td>\n",
       "      <td>1</td>\n",
       "      <td>B</td>\n",
       "      <td>307</td>\n",
       "      <td>M_ID_b0c793002c</td>\n",
       "      <td>1</td>\n",
       "      <td>-0.557574</td>\n",
       "      <td>2018-03-11 14:57:36</td>\n",
       "      <td>1.0</td>\n",
       "      <td>9</td>\n",
       "      <td>19</td>\n",
       "    </tr>\n",
       "    <tr>\n",
       "      <th>1</th>\n",
       "      <td>Y</td>\n",
       "      <td>C_ID_415bb3a509</td>\n",
       "      <td>140</td>\n",
       "      <td>N</td>\n",
       "      <td>1</td>\n",
       "      <td>B</td>\n",
       "      <td>307</td>\n",
       "      <td>M_ID_88920c89e8</td>\n",
       "      <td>1</td>\n",
       "      <td>-0.569580</td>\n",
       "      <td>2018-03-19 18:53:37</td>\n",
       "      <td>1.0</td>\n",
       "      <td>9</td>\n",
       "      <td>19</td>\n",
       "    </tr>\n",
       "    <tr>\n",
       "      <th>2</th>\n",
       "      <td>Y</td>\n",
       "      <td>C_ID_415bb3a509</td>\n",
       "      <td>330</td>\n",
       "      <td>N</td>\n",
       "      <td>1</td>\n",
       "      <td>B</td>\n",
       "      <td>507</td>\n",
       "      <td>M_ID_ad5237ef6b</td>\n",
       "      <td>2</td>\n",
       "      <td>-0.551037</td>\n",
       "      <td>2018-04-26 14:08:44</td>\n",
       "      <td>1.0</td>\n",
       "      <td>9</td>\n",
       "      <td>14</td>\n",
       "    </tr>\n",
       "    <tr>\n",
       "      <th>3</th>\n",
       "      <td>Y</td>\n",
       "      <td>C_ID_415bb3a509</td>\n",
       "      <td>-1</td>\n",
       "      <td>Y</td>\n",
       "      <td>1</td>\n",
       "      <td>B</td>\n",
       "      <td>661</td>\n",
       "      <td>M_ID_9e84cda3b1</td>\n",
       "      <td>1</td>\n",
       "      <td>-0.671925</td>\n",
       "      <td>2018-03-07 09:43:21</td>\n",
       "      <td>NaN</td>\n",
       "      <td>-1</td>\n",
       "      <td>8</td>\n",
       "    </tr>\n",
       "    <tr>\n",
       "      <th>4</th>\n",
       "      <td>Y</td>\n",
       "      <td>C_ID_ef55cf8d4b</td>\n",
       "      <td>-1</td>\n",
       "      <td>Y</td>\n",
       "      <td>1</td>\n",
       "      <td>B</td>\n",
       "      <td>166</td>\n",
       "      <td>M_ID_3c86fa3831</td>\n",
       "      <td>1</td>\n",
       "      <td>-0.659904</td>\n",
       "      <td>2018-03-22 21:07:53</td>\n",
       "      <td>NaN</td>\n",
       "      <td>-1</td>\n",
       "      <td>29</td>\n",
       "    </tr>\n",
       "  </tbody>\n",
       "</table>\n",
       "</div>"
      ],
      "text/plain": [
       "  authorized_flag          card_id  city_id category_1  installments  \\\n",
       "0               Y  C_ID_415bb3a509      107          N             1   \n",
       "1               Y  C_ID_415bb3a509      140          N             1   \n",
       "2               Y  C_ID_415bb3a509      330          N             1   \n",
       "3               Y  C_ID_415bb3a509       -1          Y             1   \n",
       "4               Y  C_ID_ef55cf8d4b       -1          Y             1   \n",
       "\n",
       "  category_3  merchant_category_id      merchant_id  month_lag  \\\n",
       "0          B                   307  M_ID_b0c793002c          1   \n",
       "1          B                   307  M_ID_88920c89e8          1   \n",
       "2          B                   507  M_ID_ad5237ef6b          2   \n",
       "3          B                   661  M_ID_9e84cda3b1          1   \n",
       "4          B                   166  M_ID_3c86fa3831          1   \n",
       "\n",
       "   purchase_amount        purchase_date  category_2  state_id  subsector_id  \n",
       "0        -0.557574  2018-03-11 14:57:36         1.0         9            19  \n",
       "1        -0.569580  2018-03-19 18:53:37         1.0         9            19  \n",
       "2        -0.551037  2018-04-26 14:08:44         1.0         9            14  \n",
       "3        -0.671925  2018-03-07 09:43:21         NaN        -1             8  \n",
       "4        -0.659904  2018-03-22 21:07:53         NaN        -1            29  "
      ]
     },
     "execution_count": 9,
     "metadata": {},
     "output_type": "execute_result"
    }
   ],
   "source": [
    "new_merchant_transactions = pd.read_csv(\"../input/new_merchant_transactions.csv\")\n",
    "print(\"shape of merchants : \",new_merchant_transactions.shape)\n",
    "new_merchant_transactions.head()"
   ]
  },
  {
   "cell_type": "code",
   "execution_count": 10,
   "metadata": {},
   "outputs": [
    {
     "name": "stdout",
     "output_type": "stream",
     "text": [
      "201917\n",
      "201917\n",
      "123623\n",
      "123623\n"
     ]
    }
   ],
   "source": [
    "cardCountTrain = train['card_id'].unique().size\n",
    "print(cardCountTrain)\n",
    "print(train['card_id'].size)\n",
    "cardCountTest = test['card_id'].unique().size\n",
    "print(cardCountTest)\n",
    "print(test['card_id'].size)"
   ]
  },
  {
   "cell_type": "markdown",
   "metadata": {},
   "source": [
    "every value of card_id in Train and test is unique."
   ]
  },
  {
   "cell_type": "code",
   "execution_count": 11,
   "metadata": {},
   "outputs": [
    {
     "name": "stdout",
     "output_type": "stream",
     "text": [
      "325540\n"
     ]
    }
   ],
   "source": [
    "cardCountTransactions = historical_transactions['card_id'].unique().size\n",
    "print(cardCountTransactions)\n"
   ]
  },
  {
   "cell_type": "markdown",
   "metadata": {},
   "source": [
    "we see that: cardCountTrain + cardCountTest = cardCountTransactions,\n",
    "Lets try to join the dataframes to get all the values."
   ]
  },
  {
   "cell_type": "markdown",
   "metadata": {},
   "source": [
    "Lets see the correlation of the features 1,2,3 with the target."
   ]
  },
  {
   "cell_type": "code",
   "execution_count": 36,
   "metadata": {},
   "outputs": [],
   "source": [
    "import seaborn as sns "
   ]
  },
  {
   "cell_type": "code",
   "execution_count": 38,
   "metadata": {},
   "outputs": [
    {
     "data": {
      "image/png": "[encoded data removed]",
      "text/plain": [
       "<Figure size 432x432 with 3 Axes>"
      ]
     },
     "metadata": {
      "needs_background": "light"
     },
     "output_type": "display_data"
    },
    {
     "data": {
      "image/png": "[encoded data removed]",
      "text/plain": [
       "<Figure size 432x432 with 3 Axes>"
      ]
     },
     "metadata": {
      "needs_background": "light"
     },
     "output_type": "display_data"
    },
    {
     "data": {
      "image/png": "[encoded data removed]",
      "text/plain": [
       "<Figure size 432x432 with 3 Axes>"
      ]
     },
     "metadata": {
      "needs_background": "light"
     },
     "output_type": "display_data"
    }
   ],
   "source": [
    "sns.jointplot(x=train['feature_1'], y=train['target'], data=train)  \n",
    "plt.show()\n",
    "\n",
    "sns.jointplot(x=train['feature_2'], y=train['target'], data=train)  \n",
    "plt.show()\n",
    "\n",
    "sns.jointplot(x=train['feature_3'], y=train['target'], data=train)  \n",
    "plt.show()"
   ]
  },
  {
   "cell_type": "code",
   "execution_count": 26,
   "metadata": {},
   "outputs": [
    {
     "name": "stdout",
     "output_type": "stream",
     "text": [
      "unique merchant_id : 326311\n",
      "unique merchant_category_id : 327\n",
      "unique month_lag : 14\n",
      "unique purchase_date : 16395300\n",
      "unique purchase_amount : 215014\n"
     ]
    }
   ],
   "source": [
    "print('unique merchant_id : {0}'.format(historical_transactions['merchant_id'].nunique()))\n",
    "print('unique merchant_category_id : {0}'.format(historical_transactions['merchant_category_id'].nunique()))\n",
    "print('unique month_lag : {0}'.format(historical_transactions['month_lag'].nunique()))\n",
    "print('unique purchase_date : {0}'.format(historical_transactions['purchase_date'].nunique()))\n",
    "print('unique purchase_amount : {0}'.format(historical_transactions['purchase_amount'].nunique()))"
   ]
  },
  {
   "cell_type": "code",
   "execution_count": null,
   "metadata": {},
   "outputs": [],
   "source": []
  },
  {
   "cell_type": "markdown",
   "metadata": {},
   "source": [
    "Lets look at some features from other datasets. We can merge the transactions dataset with the train to see how other features correlate with target.\n"
   ]
  },
  {
   "cell_type": "code",
   "execution_count": 105,
   "metadata": {},
   "outputs": [
    {
     "data": {
      "text/html": [
       "<div>\n",
       "<style scoped>\n",
       "    .dataframe tbody tr th:only-of-type {\n",
       "        vertical-align: middle;\n",
       "    }\n",
       "\n",
       "    .dataframe tbody tr th {\n",
       "        vertical-align: top;\n",
       "    }\n",
       "\n",
       "    .dataframe thead th {\n",
       "        text-align: right;\n",
       "    }\n",
       "</style>\n",
       "<table border=\"1\" class=\"dataframe\">\n",
       "  <thead>\n",
       "    <tr style=\"text-align: right;\">\n",
       "      <th></th>\n",
       "      <th>first_active_month</th>\n",
       "      <th>card_id</th>\n",
       "      <th>feature_1</th>\n",
       "      <th>feature_2</th>\n",
       "      <th>feature_3</th>\n",
       "      <th>target</th>\n",
       "      <th>merchant_category_id</th>\n",
       "      <th>merchant_id</th>\n",
       "      <th>month_lag</th>\n",
       "      <th>purchase_amount</th>\n",
       "      <th>purchase_date</th>\n",
       "    </tr>\n",
       "  </thead>\n",
       "  <tbody>\n",
       "    <tr>\n",
       "      <th>0</th>\n",
       "      <td>2017-06</td>\n",
       "      <td>C_ID_92a2005557</td>\n",
       "      <td>5</td>\n",
       "      <td>2</td>\n",
       "      <td>1</td>\n",
       "      <td>-0.820283</td>\n",
       "      <td>195</td>\n",
       "      <td>M_ID_cc72dac895</td>\n",
       "      <td>-3</td>\n",
       "      <td>-0.506033</td>\n",
       "      <td>2017-11-25 16:37:11</td>\n",
       "    </tr>\n",
       "    <tr>\n",
       "      <th>1</th>\n",
       "      <td>2017-06</td>\n",
       "      <td>C_ID_92a2005557</td>\n",
       "      <td>5</td>\n",
       "      <td>2</td>\n",
       "      <td>1</td>\n",
       "      <td>-0.820283</td>\n",
       "      <td>278</td>\n",
       "      <td>M_ID_c9c0f1cb3f</td>\n",
       "      <td>-7</td>\n",
       "      <td>-0.722114</td>\n",
       "      <td>2017-07-16 12:21:00</td>\n",
       "    </tr>\n",
       "    <tr>\n",
       "      <th>2</th>\n",
       "      <td>2017-06</td>\n",
       "      <td>C_ID_92a2005557</td>\n",
       "      <td>5</td>\n",
       "      <td>2</td>\n",
       "      <td>1</td>\n",
       "      <td>-0.820283</td>\n",
       "      <td>683</td>\n",
       "      <td>M_ID_36f9e41993</td>\n",
       "      <td>-6</td>\n",
       "      <td>-0.726171</td>\n",
       "      <td>2017-08-10 21:01:16</td>\n",
       "    </tr>\n",
       "    <tr>\n",
       "      <th>3</th>\n",
       "      <td>2017-06</td>\n",
       "      <td>C_ID_92a2005557</td>\n",
       "      <td>5</td>\n",
       "      <td>2</td>\n",
       "      <td>1</td>\n",
       "      <td>-0.820283</td>\n",
       "      <td>309</td>\n",
       "      <td>M_ID_b790230ee9</td>\n",
       "      <td>-2</td>\n",
       "      <td>-0.610167</td>\n",
       "      <td>2017-12-15 12:06:58</td>\n",
       "    </tr>\n",
       "    <tr>\n",
       "      <th>4</th>\n",
       "      <td>2017-06</td>\n",
       "      <td>C_ID_92a2005557</td>\n",
       "      <td>5</td>\n",
       "      <td>2</td>\n",
       "      <td>1</td>\n",
       "      <td>-0.820283</td>\n",
       "      <td>278</td>\n",
       "      <td>M_ID_ab67f6c982</td>\n",
       "      <td>-7</td>\n",
       "      <td>-0.307232</td>\n",
       "      <td>2017-07-08 15:13:18</td>\n",
       "    </tr>\n",
       "  </tbody>\n",
       "</table>\n",
       "</div>"
      ],
      "text/plain": [
       "  first_active_month          card_id  feature_1  feature_2  feature_3  \\\n",
       "0            2017-06  C_ID_92a2005557          5          2          1   \n",
       "1            2017-06  C_ID_92a2005557          5          2          1   \n",
       "2            2017-06  C_ID_92a2005557          5          2          1   \n",
       "3            2017-06  C_ID_92a2005557          5          2          1   \n",
       "4            2017-06  C_ID_92a2005557          5          2          1   \n",
       "\n",
       "     target  merchant_category_id      merchant_id  month_lag  \\\n",
       "0 -0.820283                   195  M_ID_cc72dac895         -3   \n",
       "1 -0.820283                   278  M_ID_c9c0f1cb3f         -7   \n",
       "2 -0.820283                   683  M_ID_36f9e41993         -6   \n",
       "3 -0.820283                   309  M_ID_b790230ee9         -2   \n",
       "4 -0.820283                   278  M_ID_ab67f6c982         -7   \n",
       "\n",
       "   purchase_amount        purchase_date  \n",
       "0        -0.506033  2017-11-25 16:37:11  \n",
       "1        -0.722114  2017-07-16 12:21:00  \n",
       "2        -0.726171  2017-08-10 21:01:16  \n",
       "3        -0.610167  2017-12-15 12:06:58  \n",
       "4        -0.307232  2017-07-08 15:13:18  "
      ]
     },
     "execution_count": 105,
     "metadata": {},
     "output_type": "execute_result"
    }
   ],
   "source": [
    "joinedTrain = pd.merge(train, historical_transactions, sort=False, on = 'card_id',how='inner')\n",
    "joinedTrain.head()"
   ]
  },
  {
   "cell_type": "code",
   "execution_count": 106,
   "metadata": {},
   "outputs": [
    {
     "data": {
      "text/plain": [
       "(17943982, 11)"
      ]
     },
     "execution_count": 106,
     "metadata": {},
     "output_type": "execute_result"
    }
   ],
   "source": [
    "joinedTrain.dropna(inplace=True)\n",
    "joinedTrain.shape\n"
   ]
  },
  {
   "cell_type": "code",
   "execution_count": 107,
   "metadata": {},
   "outputs": [],
   "source": [
    "Train2 = joinedTrain"
   ]
  },
  {
   "cell_type": "code",
   "execution_count": 108,
   "metadata": {},
   "outputs": [
    {
     "data": {
      "text/plain": [
       "(17943982, 11)"
      ]
     },
     "execution_count": 108,
     "metadata": {},
     "output_type": "execute_result"
    }
   ],
   "source": [
    "Train2.shape"
   ]
  },
  {
   "cell_type": "code",
   "execution_count": 14,
   "metadata": {},
   "outputs": [
    {
     "data": {
      "text/plain": [
       "<matplotlib.axes._subplots.AxesSubplot at 0x16fd34ecac8>"
      ]
     },
     "execution_count": 14,
     "metadata": {},
     "output_type": "execute_result"
    },
    {
     "data": {
      "image/png": "[encoded data removed]",
      "text/plain": [
       "<Figure size 432x288 with 1 Axes>"
      ]
     },
     "metadata": {
      "needs_background": "light"
     },
     "output_type": "display_data"
    }
   ],
   "source": [
    "joinedTrain['target'].hist(alpha=0.5)"
   ]
  },
  {
   "cell_type": "code",
   "execution_count": 109,
   "metadata": {},
   "outputs": [
    {
     "data": {
      "text/plain": [
       "(500000, 11)"
      ]
     },
     "execution_count": 109,
     "metadata": {},
     "output_type": "execute_result"
    }
   ],
   "source": [
    "joinedTrain = joinedTrain.sample(500000)\n",
    "joinedTrain.shape"
   ]
  },
  {
   "cell_type": "code",
   "execution_count": 37,
   "metadata": {},
   "outputs": [
    {
     "data": {
      "text/html": [
       "<div>\n",
       "<style scoped>\n",
       "    .dataframe tbody tr th:only-of-type {\n",
       "        vertical-align: middle;\n",
       "    }\n",
       "\n",
       "    .dataframe tbody tr th {\n",
       "        vertical-align: top;\n",
       "    }\n",
       "\n",
       "    .dataframe thead th {\n",
       "        text-align: right;\n",
       "    }\n",
       "</style>\n",
       "<table border=\"1\" class=\"dataframe\">\n",
       "  <thead>\n",
       "    <tr style=\"text-align: right;\">\n",
       "      <th></th>\n",
       "      <th>first_active_month</th>\n",
       "      <th>card_id</th>\n",
       "      <th>feature_1</th>\n",
       "      <th>feature_2</th>\n",
       "      <th>feature_3</th>\n",
       "      <th>merchant_category_id</th>\n",
       "      <th>merchant_id</th>\n",
       "      <th>month_lag</th>\n",
       "      <th>purchase_amount</th>\n",
       "      <th>purchase_date</th>\n",
       "    </tr>\n",
       "  </thead>\n",
       "  <tbody>\n",
       "    <tr>\n",
       "      <th>0</th>\n",
       "      <td>2017-04</td>\n",
       "      <td>C_ID_0ab67a22ab</td>\n",
       "      <td>3</td>\n",
       "      <td>3</td>\n",
       "      <td>1</td>\n",
       "      <td>412</td>\n",
       "      <td>M_ID_85a5803161</td>\n",
       "      <td>-8</td>\n",
       "      <td>-0.697320</td>\n",
       "      <td>2017-04-27 14:17:27</td>\n",
       "    </tr>\n",
       "    <tr>\n",
       "      <th>1</th>\n",
       "      <td>2017-04</td>\n",
       "      <td>C_ID_0ab67a22ab</td>\n",
       "      <td>3</td>\n",
       "      <td>3</td>\n",
       "      <td>1</td>\n",
       "      <td>278</td>\n",
       "      <td>M_ID_c873d839bd</td>\n",
       "      <td>-3</td>\n",
       "      <td>-0.716855</td>\n",
       "      <td>2017-09-21 22:11:57</td>\n",
       "    </tr>\n",
       "    <tr>\n",
       "      <th>2</th>\n",
       "      <td>2017-04</td>\n",
       "      <td>C_ID_0ab67a22ab</td>\n",
       "      <td>3</td>\n",
       "      <td>3</td>\n",
       "      <td>1</td>\n",
       "      <td>879</td>\n",
       "      <td>M_ID_9139332ccc</td>\n",
       "      <td>-6</td>\n",
       "      <td>-0.480082</td>\n",
       "      <td>2017-06-22 22:53:59</td>\n",
       "    </tr>\n",
       "    <tr>\n",
       "      <th>3</th>\n",
       "      <td>2017-04</td>\n",
       "      <td>C_ID_0ab67a22ab</td>\n",
       "      <td>3</td>\n",
       "      <td>3</td>\n",
       "      <td>1</td>\n",
       "      <td>80</td>\n",
       "      <td>M_ID_26c089d552</td>\n",
       "      <td>-8</td>\n",
       "      <td>-0.743902</td>\n",
       "      <td>2017-04-04 18:22:24</td>\n",
       "    </tr>\n",
       "    <tr>\n",
       "      <th>4</th>\n",
       "      <td>2017-04</td>\n",
       "      <td>C_ID_0ab67a22ab</td>\n",
       "      <td>3</td>\n",
       "      <td>3</td>\n",
       "      <td>1</td>\n",
       "      <td>278</td>\n",
       "      <td>M_ID_26c089d552</td>\n",
       "      <td>-2</td>\n",
       "      <td>-0.711595</td>\n",
       "      <td>2017-10-06 23:51:21</td>\n",
       "    </tr>\n",
       "  </tbody>\n",
       "</table>\n",
       "</div>"
      ],
      "text/plain": [
       "  first_active_month          card_id  feature_1  feature_2  feature_3  \\\n",
       "0            2017-04  C_ID_0ab67a22ab          3          3          1   \n",
       "1            2017-04  C_ID_0ab67a22ab          3          3          1   \n",
       "2            2017-04  C_ID_0ab67a22ab          3          3          1   \n",
       "3            2017-04  C_ID_0ab67a22ab          3          3          1   \n",
       "4            2017-04  C_ID_0ab67a22ab          3          3          1   \n",
       "\n",
       "   merchant_category_id      merchant_id  month_lag  purchase_amount  \\\n",
       "0                   412  M_ID_85a5803161         -8        -0.697320   \n",
       "1                   278  M_ID_c873d839bd         -3        -0.716855   \n",
       "2                   879  M_ID_9139332ccc         -6        -0.480082   \n",
       "3                    80  M_ID_26c089d552         -8        -0.743902   \n",
       "4                   278  M_ID_26c089d552         -2        -0.711595   \n",
       "\n",
       "         purchase_date  \n",
       "0  2017-04-27 14:17:27  \n",
       "1  2017-09-21 22:11:57  \n",
       "2  2017-06-22 22:53:59  \n",
       "3  2017-04-04 18:22:24  \n",
       "4  2017-10-06 23:51:21  "
      ]
     },
     "execution_count": 37,
     "metadata": {},
     "output_type": "execute_result"
    }
   ],
   "source": [
    "joinedTest = pd.merge(test, historical_transactions, sort=False, on = 'card_id',how='inner')\n",
    "joinedTest.head()"
   ]
  },
  {
   "cell_type": "code",
   "execution_count": 43,
   "metadata": {},
   "outputs": [
    {
     "data": {
      "text/plain": [
       "(11029843, 10)"
      ]
     },
     "execution_count": 43,
     "metadata": {},
     "output_type": "execute_result"
    }
   ],
   "source": [
    "joinedTest.dropna(inplace=True)\n",
    "joinedTest.shape"
   ]
  },
  {
   "cell_type": "code",
   "execution_count": 110,
   "metadata": {},
   "outputs": [],
   "source": [
    "from sklearn import preprocessing\n",
    "\n",
    "target = joinedTrain['target'].values\n",
    "min_max_scaler = preprocessing.MinMaxScaler()\n",
    "normalizedTarget = min_max_scaler.fit_transform(target.reshape(-1, 1))"
   ]
  },
  {
   "cell_type": "code",
   "execution_count": 111,
   "metadata": {},
   "outputs": [
    {
     "data": {
      "text/plain": [
       "array([[0.65219014],\n",
       "       [0.66714982],\n",
       "       [0.65528036],\n",
       "       ...,\n",
       "       [0.65096653],\n",
       "       [0.63392361],\n",
       "       [0.66103257]])"
      ]
     },
     "execution_count": 111,
     "metadata": {},
     "output_type": "execute_result"
    }
   ],
   "source": [
    "normalizedTarget"
   ]
  },
  {
   "cell_type": "code",
   "execution_count": 112,
   "metadata": {},
   "outputs": [
    {
     "data": {
      "text/plain": [
       "array([-0.02606579,  0.73530725,  0.1312107 , ..., -0.08834126,\n",
       "       -0.95574103,  0.42396943])"
      ]
     },
     "execution_count": 112,
     "metadata": {},
     "output_type": "execute_result"
    }
   ],
   "source": [
    "target"
   ]
  },
  {
   "cell_type": "code",
   "execution_count": 113,
   "metadata": {},
   "outputs": [
    {
     "data": {
      "text/plain": [
       "array([[-0.02606579,  0.73530725,  0.1312107 , ..., -0.08834126,\n",
       "        -0.95574103,  0.42396943]])"
      ]
     },
     "execution_count": 113,
     "metadata": {},
     "output_type": "execute_result"
    }
   ],
   "source": [
    "min_max_scaler.inverse_transform(normalizedTarget.reshape(1,-1))\n"
   ]
  },
  {
   "cell_type": "code",
   "execution_count": 114,
   "metadata": {},
   "outputs": [],
   "source": [
    "first_active_month = {p:i for (i,p) in enumerate(joinedTrain['first_active_month'].unique())}\n",
    "card_id = {p:i for (i,p) in enumerate(joinedTrain['card_id'].unique())}\n",
    "feature_1 = {p:i for (i,p) in enumerate(joinedTrain['feature_1'].unique())}\n",
    "feature_2 = {p:i for (i,p) in enumerate(joinedTrain['feature_2'].unique())}\n",
    "feature_3 = {p:i for (i,p) in enumerate(joinedTrain['feature_3'].unique())}\n",
    "merchant_category_id = {p:i for (i,p) in enumerate(joinedTrain['merchant_category_id'].unique())}\n",
    "merchant_id = {p:i for (i,p) in enumerate(joinedTrain['merchant_id'].unique())}\n",
    "month_lag = {p:i for (i,p) in enumerate(joinedTrain['month_lag'].unique())}\n",
    "purchase_amount = {p:i for (i,p) in enumerate(joinedTrain['purchase_amount'].unique())}\n",
    "purchase_date = {p:i for (i,p) in enumerate(joinedTrain['purchase_date'].unique())}\n"
   ]
  },
  {
   "cell_type": "code",
   "execution_count": 147,
   "metadata": {},
   "outputs": [],
   "source": [
    "first_active_month = {p:i for (i,p) in enumerate(joinedTrain['first_active_month'])}\n",
    "card_id = {p:i for (i,p) in enumerate(joinedTrain['card_id'])}\n",
    "feature_1 = {p:i for (i,p) in enumerate(joinedTrain['feature_1'])}\n",
    "feature_2 = {p:i for (i,p) in enumerate(joinedTrain['feature_2'])}\n",
    "feature_3 = {p:i for (i,p) in enumerate(joinedTrain['feature_3'])}\n",
    "merchant_category_id = {p:i for (i,p) in enumerate(joinedTrain['merchant_category_id'])}\n",
    "merchant_id = {p:i for (i,p) in enumerate(joinedTrain['merchant_id'])}\n",
    "month_lag = {p:i for (i,p) in enumerate(joinedTrain['month_lag'])}\n",
    "purchase_amount = {p:i for (i,p) in enumerate(joinedTrain['purchase_amount'])}\n",
    "purchase_date = {p:i for (i,p) in enumerate(joinedTrain['purchase_date'])}"
   ]
  },
  {
   "cell_type": "code",
   "execution_count": 148,
   "metadata": {},
   "outputs": [],
   "source": [
    "processed_data = joinedTrain.loc[:,['first_active_month','card_id','feature_1','feature_2',\n",
    "                                    'feature_3','merchant_category_id','merchant_id','month_lag',\n",
    "                                   'purchase_amount','purchase_date']].copy()\n",
    "processed_data['first_active_month'] = [first_active_month[x] for x in joinedTrain['first_active_month']]\n",
    "processed_data['card_id'] = [card_id[x] for x in joinedTrain['card_id']]\n",
    "processed_data['feature_1'] = [feature_1[x] for x in joinedTrain['feature_1']]\n",
    "processed_data['feature_2'] = [feature_2[x] for x in joinedTrain['feature_2']]\n",
    "processed_data['feature_3'] = [feature_3[x] for x in joinedTrain['feature_3']]\n",
    "processed_data['merchant_category_id'] = [merchant_category_id[x] for x in joinedTrain['merchant_category_id']]\n",
    "processed_data['merchant_id'] = [merchant_id[x] for x in joinedTrain['merchant_id']]\n",
    "processed_data['month_lag'] = [month_lag[x] for x in joinedTrain['month_lag']]\n",
    "processed_data['purchase_amount'] = [purchase_amount[x] for x in joinedTrain['purchase_amount']]\n",
    "processed_data['purchase_date'] = [purchase_date[x] for x in joinedTrain['purchase_date']]\n"
   ]
  },
  {
   "cell_type": "code",
   "execution_count": 153,
   "metadata": {},
   "outputs": [],
   "source": [
    "first_active_inp = Input(shape=(1,),dtype='int64')\n",
    "card_inp = Input(shape=(1,),dtype='int64')\n",
    "f1_inp = Input(shape=(1,),dtype='int64')\n",
    "f2_inp = Input(shape=(1,),dtype='int64')\n",
    "f3_inp = Input(shape=(1,),dtype='int64')\n",
    "mcid_inp = Input(shape=(1,),dtype='int64')\n",
    "mid_inp = Input(shape=(1,),dtype='int64')\n",
    "month_lag_inp = Input(shape=(1,),dtype='int64')\n",
    "p_amount_inp = Input(shape=(1,),dtype='int64')\n",
    "p_date_inp = Input(shape=(1,),dtype='int64')\n",
    "\n",
    "first_active_emb = Embedding(len(first_active_month),5,input_length=1, embeddings_regularizer=l2(1e-6))(first_active_inp)\n",
    "card_emb = Embedding(len(card_id),5,input_length=1, embeddings_regularizer=l2(1e-6))(card_inp)\n",
    "f1_emb = Embedding(len(feature_1),5,input_length=1, embeddings_regularizer=l2(1e-6))(f1_inp)\n",
    "f2_emb = Embedding(len(feature_2),5,input_length=1, embeddings_regularizer=l2(1e-6))(f2_inp)\n",
    "f3_emb = Embedding(len(feature_3),5,input_length=1, embeddings_regularizer=l2(1e-6))(f3_inp)\n",
    "mcid_emb = Embedding(len(merchant_category_id),5,input_length=1, embeddings_regularizer=l2(1e-6))(mcid_inp)\n",
    "mid_emb = Embedding(len(merchant_id),5,input_length=1, embeddings_regularizer=l2(1e-6))(mid_inp)\n",
    "month_lag_emb = Embedding(len(month_lag),5,input_length=1, embeddings_regularizer=l2(1e-6))(month_lag_inp)\n",
    "p_amount_emb = Embedding(len(purchase_amount),5,input_length=1, embeddings_regularizer=l2(1e-6))(p_amount_inp)\n",
    "p_date_emb = Embedding(len(purchase_date),5,input_length=1, embeddings_regularizer=l2(1e-6))(p_date_inp)"
   ]
  },
  {
   "cell_type": "code",
   "execution_count": 154,
   "metadata": {},
   "outputs": [
    {
     "name": "stdout",
     "output_type": "stream",
     "text": [
      "Tensor(\"input_67:0\", shape=(?, 1), dtype=int64)\n"
     ]
    }
   ],
   "source": [
    "print(mid_inp)"
   ]
  },
  {
   "cell_type": "code",
   "execution_count": 243,
   "metadata": {},
   "outputs": [],
   "source": [
    "x = concatenate([first_active_emb,card_emb,f1_emb,f2_emb,f3_emb,mcid_emb,mid_emb,month_lag_emb,p_amount_emb,p_date_emb])\n",
    "x = Flatten()(x)\n",
    "x = BatchNormalization()(x)\n",
    "x = Dense(10,activation='relu')(x)\n",
    "x = Dense(10,activation='relu')(x)\n",
    "x = Dropout(0.4)(x)\n",
    "x = BatchNormalization()(x)\n",
    "x = Dense(10,activation='relu')(x)\n",
    "x = Dense(5,activation='relu')(x)\n",
    "x = Dense(4,activation='relu')(x)\n",
    "x = Dropout(0.7)(x)\n",
    "x = Dense(2,activation='softmax')(x)\n",
    "x = Dense(2,activation='softmax')(x)\n",
    "nn_model = Model([first_active_inp,card_inp,f1_inp,f2_inp,f3_inp,mcid_inp,mid_inp,month_lag_inp,p_amount_inp,p_date_inp],x)\n",
    "nn_model.compile(loss = 'categorical_crossentropy',optimizer='adam')"
   ]
  },
  {
   "cell_type": "code",
   "execution_count": 244,
   "metadata": {},
   "outputs": [
    {
     "name": "stdout",
     "output_type": "stream",
     "text": [
      "__________________________________________________________________________________________________\n",
      "Layer (type)                    Output Shape         Param #     Connected to                     \n",
      "==================================================================================================\n",
      "input_61 (InputLayer)           (None, 1)            0                                            \n",
      "__________________________________________________________________________________________________\n",
      "input_62 (InputLayer)           (None, 1)            0                                            \n",
      "__________________________________________________________________________________________________\n",
      "input_63 (InputLayer)           (None, 1)            0                                            \n",
      "__________________________________________________________________________________________________\n",
      "input_64 (InputLayer)           (None, 1)            0                                            \n",
      "__________________________________________________________________________________________________\n",
      "input_65 (InputLayer)           (None, 1)            0                                            \n",
      "__________________________________________________________________________________________________\n",
      "input_66 (InputLayer)           (None, 1)            0                                            \n",
      "__________________________________________________________________________________________________\n",
      "input_67 (InputLayer)           (None, 1)            0                                            \n",
      "__________________________________________________________________________________________________\n",
      "input_68 (InputLayer)           (None, 1)            0                                            \n",
      "__________________________________________________________________________________________________\n",
      "input_69 (InputLayer)           (None, 1)            0                                            \n",
      "__________________________________________________________________________________________________\n",
      "input_70 (InputLayer)           (None, 1)            0                                            \n",
      "__________________________________________________________________________________________________\n",
      "embedding_61 (Embedding)        (None, 1, 5)         370         input_61[0][0]                   \n",
      "__________________________________________________________________________________________________\n",
      "embedding_62 (Embedding)        (None, 1, 5)         724830      input_62[0][0]                   \n",
      "__________________________________________________________________________________________________\n",
      "embedding_63 (Embedding)        (None, 1, 5)         25          input_63[0][0]                   \n",
      "__________________________________________________________________________________________________\n",
      "embedding_64 (Embedding)        (None, 1, 5)         15          input_64[0][0]                   \n",
      "__________________________________________________________________________________________________\n",
      "embedding_65 (Embedding)        (None, 1, 5)         10          input_65[0][0]                   \n",
      "__________________________________________________________________________________________________\n",
      "embedding_66 (Embedding)        (None, 1, 5)         1475        input_66[0][0]                   \n",
      "__________________________________________________________________________________________________\n",
      "embedding_67 (Embedding)        (None, 1, 5)         546230      input_67[0][0]                   \n",
      "__________________________________________________________________________________________________\n",
      "embedding_68 (Embedding)        (None, 1, 5)         70          input_68[0][0]                   \n",
      "__________________________________________________________________________________________________\n",
      "embedding_69 (Embedding)        (None, 1, 5)         215390      input_69[0][0]                   \n",
      "__________________________________________________________________________________________________\n",
      "embedding_70 (Embedding)        (None, 1, 5)         2402590     input_70[0][0]                   \n",
      "__________________________________________________________________________________________________\n",
      "concatenate_40 (Concatenate)    (None, 1, 50)        0           embedding_61[0][0]               \n",
      "                                                                 embedding_62[0][0]               \n",
      "                                                                 embedding_63[0][0]               \n",
      "                                                                 embedding_64[0][0]               \n",
      "                                                                 embedding_65[0][0]               \n",
      "                                                                 embedding_66[0][0]               \n",
      "                                                                 embedding_67[0][0]               \n",
      "                                                                 embedding_68[0][0]               \n",
      "                                                                 embedding_69[0][0]               \n",
      "                                                                 embedding_70[0][0]               \n",
      "__________________________________________________________________________________________________\n",
      "flatten_41 (Flatten)            (None, 50)           0           concatenate_40[0][0]             \n",
      "__________________________________________________________________________________________________\n",
      "batch_normalization_76 (BatchNo (None, 50)           200         flatten_41[0][0]                 \n",
      "__________________________________________________________________________________________________\n",
      "dense_209 (Dense)               (None, 10)           510         batch_normalization_76[0][0]     \n",
      "__________________________________________________________________________________________________\n",
      "dense_210 (Dense)               (None, 10)           110         dense_209[0][0]                  \n",
      "__________________________________________________________________________________________________\n",
      "dropout_76 (Dropout)            (None, 10)           0           dense_210[0][0]                  \n",
      "__________________________________________________________________________________________________\n",
      "batch_normalization_77 (BatchNo (None, 10)           40          dropout_76[0][0]                 \n",
      "__________________________________________________________________________________________________\n",
      "dense_211 (Dense)               (None, 10)           110         batch_normalization_77[0][0]     \n",
      "__________________________________________________________________________________________________\n",
      "dense_212 (Dense)               (None, 5)            55          dense_211[0][0]                  \n",
      "__________________________________________________________________________________________________\n",
      "dense_213 (Dense)               (None, 4)            24          dense_212[0][0]                  \n",
      "__________________________________________________________________________________________________\n",
      "dropout_77 (Dropout)            (None, 4)            0           dense_213[0][0]                  \n",
      "__________________________________________________________________________________________________\n",
      "dense_214 (Dense)               (None, 2)            10          dropout_77[0][0]                 \n",
      "__________________________________________________________________________________________________\n",
      "dense_215 (Dense)               (None, 2)            6           dense_214[0][0]                  \n",
      "==================================================================================================\n",
      "Total params: 3,892,070\n",
      "Trainable params: 3,891,950\n",
      "Non-trainable params: 120\n",
      "__________________________________________________________________________________________________\n"
     ]
    }
   ],
   "source": [
    "nn_model.summary()"
   ]
  },
  {
   "cell_type": "code",
   "execution_count": 245,
   "metadata": {},
   "outputs": [],
   "source": [
    "from sklearn.model_selection import KFold,StratifiedKFold\n",
    "from sklearn.model_selection import train_test_split\n",
    "\n",
    "def set_callbacks(description='run1',patience=15,tb_base_logdir='./logs/'):\n",
    "    cp = ModelCheckpoint('best_model_weights_{}.h5'.format(description),save_best_only=True)\n",
    "    rlop = ReduceLROnPlateau(patience=5)   \n",
    "    cb = [cp,rlop]\n",
    "    return cb\n",
    "\n",
    "features = processed_data.columns\n",
    "#X_train,X_val,y_train,y_val = train_test_split(processed_data, normalizedTarget, test_size=0.2)\n"
   ]
  },
  {
   "cell_type": "code",
   "execution_count": 246,
   "metadata": {},
   "outputs": [
    {
     "name": "stdout",
     "output_type": "stream",
     "text": [
      "(400000, 10)\n",
      "(100000, 10)\n",
      "(400000, 1)\n",
      "(100000, 1)\n"
     ]
    }
   ],
   "source": [
    "print(X_train.shape)\n",
    "print(X_val.shape)\n",
    "print(y_train.shape)\n",
    "print(y_val.shape)"
   ]
  },
  {
   "cell_type": "code",
   "execution_count": 247,
   "metadata": {},
   "outputs": [
    {
     "name": "stdout",
     "output_type": "stream",
     "text": [
      "Train on 400000 samples, validate on 100000 samples\n",
      "Epoch 1/3\n",
      "400000/400000 [==============================] - 35s 88us/step - loss: 0.5424 - val_loss: 0.2763\n",
      "Epoch 2/3\n",
      "400000/400000 [==============================] - 29s 72us/step - loss: 0.2773 - val_loss: 0.1469\n",
      "Epoch 3/3\n",
      "400000/400000 [==============================] - 29s 72us/step - loss: 0.1670 - val_loss: 0.0917\n"
     ]
    },
    {
     "data": {
      "text/plain": [
       "<keras.callbacks.History at 0x17258621e80>"
      ]
     },
     "execution_count": 247,
     "metadata": {},
     "output_type": "execute_result"
    }
   ],
   "source": [
    "history = nn_model.fit([X_train[f] for f in features],to_categorical(y_train),epochs=3, batch_size=2000,\n",
    "             validation_data=[[X_val[f] for f in features],to_categorical(y_val)],callbacks=set_callbacks())\n"
   ]
  },
  {
   "cell_type": "code",
   "execution_count": null,
   "metadata": {},
   "outputs": [],
   "source": []
  },
  {
   "cell_type": "code",
   "execution_count": 248,
   "metadata": {},
   "outputs": [],
   "source": [
    "nn_model.load_weights('./best_model_weights_run1.h5')\n",
    "preds = nn_model.predict([X_val[f] for f in features])\n"
   ]
  },
  {
   "cell_type": "code",
   "execution_count": 249,
   "metadata": {},
   "outputs": [
    {
     "data": {
      "text/plain": [
       "array([[0.9123862 , 0.08761388],\n",
       "       [0.9161565 , 0.08384355],\n",
       "       [0.9117197 , 0.08828029],\n",
       "       ...,\n",
       "       [0.9085353 , 0.09146471],\n",
       "       [0.9119299 , 0.0880701 ],\n",
       "       [0.91666245, 0.0833376 ]], dtype=float32)"
      ]
     },
     "execution_count": 249,
     "metadata": {},
     "output_type": "execute_result"
    }
   ],
   "source": [
    "preds"
   ]
  },
  {
   "cell_type": "code",
   "execution_count": 252,
   "metadata": {},
   "outputs": [],
   "source": [
    "predsDF = pd.DataFrame(data = preds[:,0])\n",
    "testDF = pd.DataFrame(data = y_val)"
   ]
  },
  {
   "cell_type": "code",
   "execution_count": 253,
   "metadata": {},
   "outputs": [
    {
     "data": {
      "text/plain": [
       "[<matplotlib.lines.Line2D at 0x1725dcfbbe0>]"
      ]
     },
     "execution_count": 253,
     "metadata": {},
     "output_type": "execute_result"
    },
    {
     "data": {
      "image/png": "[encoded data removed]",
      "text/plain": [
       "<Figure size 1224x576 with 1 Axes>"
      ]
     },
     "metadata": {
      "needs_background": "light"
     },
     "output_type": "display_data"
    }
   ],
   "source": [
    "plt.figure(figsize=(17,8))\n",
    "plt.plot(predsDF,c='red',alpha=0.3)\n",
    "plt.plot(testDF,c='blue',alpha=0.3)"
   ]
  },
  {
   "cell_type": "markdown",
   "metadata": {},
   "source": [
    "## ML Benchmark:"
   ]
  },
  {
   "cell_type": "code",
   "execution_count": null,
   "metadata": {},
   "outputs": [],
   "source": [
    "from sklearn.linear_model import LinearRegression\n",
    "\n",
    "mlTrain = train.drop('target', axis = 1)\n",
    "mlTrain = mlTrain.drop('first_active_month', axis = 1)\n",
    "mlTarget = train['target']\n",
    "lm = LinearRegression()\n",
    "#lm.fit(mlTrain,mlTarget)"
   ]
  },
  {
   "cell_type": "code",
   "execution_count": null,
   "metadata": {},
   "outputs": [],
   "source": [
    "kf = StratifiedKFold(n_splits=5,random_state=42)\n",
    "# kf = KFold(n_splits=5,random_state=42)\n",
    "for tr_ind,val_ind in kf.split(processed_data,target):\n",
    "    X_train,X_val,y_train,y_val = processed_data.iloc[tr_ind],processed_data.iloc[val_ind],target[tr_ind],target[val_ind]\n",
    "    nn_model.fit([X_train[f] for f in features],to_categorical(y_train),epochs=25,\n",
    "                 validation_data=[[X_val[f] for f in features],to_categorical(y_val)],callbacks=set_callbacks())\n",
    "    break"
   ]
  },
  {
   "cell_type": "code",
   "execution_count": null,
   "metadata": {},
   "outputs": [],
   "source": []
  }
 ],
 "metadata": {
  "kernelspec": {
   "display_name": "Python 3",
   "language": "python",
   "name": "python3"
  },
  "language_info": {
   "codemirror_mode": {
    "name": "ipython",
    "version": 3
   },
   "file_extension": ".py",
   "mimetype": "text/x-python",
   "name": "python",
   "nbconvert_exporter": "python",
   "pygments_lexer": "ipython3",
   "version": "3.6.6"
  }
 },
 "nbformat": 4,
 "nbformat_minor": 2
}
